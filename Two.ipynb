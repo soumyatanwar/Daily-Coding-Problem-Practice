{
 "cells": [
  {
   "cell_type": "code",
   "execution_count": 43,
   "metadata": {},
   "outputs": [],
   "source": [
    "def sub_arr_product(arr, l, h):\n",
    "    if(l == h):\n",
    "        return(arr[l])\n",
    "    else:\n",
    "        product = 1\n",
    "        for i in range(l, h):\n",
    "            product *= arr[i]\n",
    "        return product"
   ]
  },
  {
   "cell_type": "code",
   "execution_count": 65,
   "metadata": {},
   "outputs": [],
   "source": [
    "def arr_partition(arr, i, l, h): \n",
    "    if(i == l):\n",
    "        element = sub_arr_product(arr, i + 1, h)\n",
    "    elif(i == h - 1):\n",
    "        element = sub_arr_product(arr, l, i)\n",
    "    else:\n",
    "        sub_el_1 = sub_arr_product(arr, l, i) \n",
    "        sub_el_2 = sub_arr_product(arr, i + 1, h)\n",
    "        element = sub_el_1 * sub_el_2\n",
    "    return element"
   ]
  },
  {
   "cell_type": "code",
   "execution_count": 66,
   "metadata": {},
   "outputs": [],
   "source": [
    "def main():\n",
    "    arr = [1, 2, 3, 4, 5]\n",
    "    new_arr = []\n",
    "    l = 0\n",
    "    h = len(arr)\n",
    "#     print(h)\n",
    "    for index in range(l, h):\n",
    "        new_arr.append(arr_partition(arr, index, l, h))\n",
    "    print(new_arr)"
   ]
  },
  {
   "cell_type": "code",
   "execution_count": 67,
   "metadata": {},
   "outputs": [
    {
     "name": "stdout",
     "output_type": "stream",
     "text": [
      "[120, 60, 40, 30, 24]\n"
     ]
    }
   ],
   "source": [
    "if __name__ == \"__main__\":\n",
    "    main()"
   ]
  },
  {
   "cell_type": "code",
   "execution_count": null,
   "metadata": {},
   "outputs": [],
   "source": []
  }
 ],
 "metadata": {
  "kernelspec": {
   "display_name": "Python 3",
   "language": "python",
   "name": "python3"
  },
  "language_info": {
   "codemirror_mode": {
    "name": "ipython",
    "version": 3
   },
   "file_extension": ".py",
   "mimetype": "text/x-python",
   "name": "python",
   "nbconvert_exporter": "python",
   "pygments_lexer": "ipython3",
   "version": "3.7.3"
  }
 },
 "nbformat": 4,
 "nbformat_minor": 2
}
